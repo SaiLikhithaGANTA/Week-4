{
  "nbformat": 4,
  "nbformat_minor": 0,
  "metadata": {
    "colab": {
      "provenance": [],
      "authorship_tag": "ABX9TyODuVEaa3Hd2E9O667fEUR+",
      "include_colab_link": true
    },
    "kernelspec": {
      "name": "python3",
      "display_name": "Python 3"
    },
    "language_info": {
      "name": "python"
    }
  },
  "cells": [
    {
      "cell_type": "markdown",
      "metadata": {
        "id": "view-in-github",
        "colab_type": "text"
      },
      "source": [
        "<a href=\"https://colab.research.google.com/github/SaiLikhithaGANTA/Week-4/blob/master/project1AI.ipynb\" target=\"_parent\"><img src=\"https://colab.research.google.com/assets/colab-badge.svg\" alt=\"Open In Colab\"/></a>"
      ]
    },
    {
      "cell_type": "code",
      "source": [
        "import heapq\n",
        "warp_pipe_destinations = {\n",
        "    (1, 0): (3, 1),\n",
        "    (1, 3): (1, 0),\n",
        "    (3, 1): (1, 3),\n",
        "    (4, 2): (3, 1),\n",
        "}\n",
        "walk_cost = 1\n",
        "pipe_cost = 2\n",
        "def heuristic(x, y):\n",
        "    return abs(x[0] - y[0]) + abs(x[1] - y[1])\n",
        "def astar(grid, pipe_destinations, walk_cost, pipe_cost, start, goal):\n",
        "    open_set = [(0, start)]\n",
        "    closed_set = set()\n",
        "    g_score = {start: 0}\n",
        "    f_score = {start: heuristic(start, goal)}\n",
        "\n",
        "    while open_set:\n",
        "\n",
        "        _, current = heapq.heappop(open_set)\n",
        "        if current == goal:\n",
        "            path = []\n",
        "            while current in pipe_destinations:\n",
        "                path.append(current)\n",
        "                current = pipe_destinations[current]\n",
        "            path.append(current)\n",
        "            path.reverse()\n",
        "            return path\n",
        "        closed_set.add(current)\n",
        "        for neighbor in neighbors(grid, current):\n",
        "            if neighbor in pipe_destinations:\n",
        "                tentative_g_score = g_score[current] + pipe_cost\n",
        "            else:\n",
        "                tentative_g_score = g_score[current] + walk_cost\n",
        "            if neighbor in closed_set and tentative_g_score >= g_score.get(neighbor, 0):\n",
        "                continue\n",
        "            g_score[neighbor] = tentative_g_score\n",
        "            f_score[neighbor] = g_score[neighbor] + heuristic(neighbor, goal)\n",
        "            if (f_score[neighbor], neighbor) not in open_set:\n",
        "                heapq.heappush(open_set, (f_score[neighbor], neighbor))\n",
        "    return []\n",
        "\n",
        "def neighbors(grid, point):\n",
        "    rows = len(grid)\n",
        "    cols = len(grid[0])\n",
        "    x, y = point\n",
        "    deltas = [(-1, 0), (0, -1), (1, 0), (0, 1)]  # Up, Left, Down, Right\n",
        "\n",
        "    neighbors = []\n",
        "    for dx, dy in deltas:\n",
        "        nx, ny = x + dx, y + dy\n",
        "        if 0 <= nx < rows and 0 <= ny < cols and grid[nx][ny] != 'O':\n",
        "            neighbors.append((nx, ny))\n",
        "    return neighbors\n",
        "\n",
        "# Test the A* algorithm\n",
        "start = (0, 0)\n",
        "goal = (4, 4)\n",
        "path = astar(grid, warp_pipe_destinations, walk_cost, pipe_cost, start, goal)\n",
        "print(f\"Path: {path}\")\n",
        "if path:\n",
        "    print(\"Path found:\")\n",
        "    for position in path:\n",
        "        print(position)\n",
        "else:\n",
        "    print(\"No path found.\")\n",
        ""
      ],
      "metadata": {
        "colab": {
          "base_uri": "https://localhost:8080/"
        },
        "id": "YckWE99bToSK",
        "outputId": "240b4c87-24fa-4893-bc0e-d2c16922849f"
      },
      "execution_count": 9,
      "outputs": [
        {
          "output_type": "stream",
          "name": "stdout",
          "text": [
            "Path: [(4, 4)]\n",
            "Path found:\n",
            "(4, 4)\n"
          ]
        }
      ]
    },
    {
      "cell_type": "markdown",
      "source": [
        "\n",
        "1. 'warp_pipe_destinations': A dictionary that maps the positions of warp pipes to their corresponding destinations.\n",
        "\n",
        "2. 'walk_cost' and 'pipe_cost': Constants representing the cost of walking and using a warp pipe.\n",
        "\n",
        "3. 'heuristic(x, y)': A heuristic function that calculates the Manhattan distance between two points 'x' and 'y'. This function is used to estimate the cost from a current position point1 to the goal position point2.\n",
        "\n",
        "4. 'astar(grid, pipe_destinations, walk_cost, pipe_cost, start, goal)': The main A* search algorithm function. It finds the path from the 'start' position to the 'goal' position on a grid with warp pipes and returns the path as a list of positions.\n",
        "\n",
        "5. 'neighbors(grid, point)': A helper function that finds neighboring positions from a given point on the grid. It considers positions up, left, down, and right of the current point, excluding any positions blocked by obstacles ('O').\n",
        "\n",
        "6. Test case: The code demonstrates the A* algorithm by searching for a path from the 'start' position (0, 0) to the `goal` position (4, 4)using the 'astar' function. If a path is found, it prints the path positions; otherwise, it prints \"No path found.\"\n",
        "\n",
        "Before running this code, make sure you have defined the 'grid' variable, which represents your game or grid environment. Additionally, you can customize the 'warp_pipe_destinations', 'walk_cost', and 'pipe_cost' variables to match your specific game requirements.\n",
        "\n",
        "If you have any specific questions or need further assistance with this code, please let me know!"
      ],
      "metadata": {
        "id": "PZ6IUuKeYQxh"
      }
    }
  ]
}